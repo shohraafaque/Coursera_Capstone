{
 "cells": [
  {
   "cell_type": "markdown",
   "metadata": {},
   "source": [
    "## Understanding the Data\n",
    "\n",
    "There is no second opinion that understand the problem and business requirement is extremely important. As important it is to understand the problem, choosing the data science approach to give a solution it is important to understand the data. Once we start analysing the data then we may feel the need to gather more data and the quest continues. Being part of this internet era we are surrounded by data, data is flowing all around us. It is every where, gathering data has never been so easy.\n",
    "\n"
   ]
  },
  {
   "cell_type": "markdown",
   "metadata": {},
   "source": [
    "## List of Postal Codes & Neighbourhoods (Wikipedia)\n",
    "We will be using list of Toronto Neighbourhood data scrapped form Wikipedia(https://en.wikipedia.org/wiki/List_of_postal_codes_of_Canada:_M) for analysis. There are total 180 unique postal codes with 208 unique neighbourhoods in Toronto. This will be a great starting point for us. Starting from here we will gather more data online."
   ]
  },
  {
   "cell_type": "markdown",
   "metadata": {},
   "source": [
    "## Coordinates and Venues (Foursqare API)\n",
    "We will find latitude and longitude of each neighbourhood using foursquare API.  \n",
    "We will then find the existing restaurants present in each neighbourhood fetching from foursquare location data.  \n",
    "Once we have all of these data then we can start making preparing our clustering model. Once the clustering model is trained we can start making decision examining each cluster of neighbourhoods."
   ]
  }
 ],
 "metadata": {
  "kernelspec": {
   "display_name": "Python 3",
   "language": "python",
   "name": "python3"
  },
  "language_info": {
   "codemirror_mode": {
    "name": "ipython",
    "version": 3
   },
   "file_extension": ".py",
   "mimetype": "text/x-python",
   "name": "python",
   "nbconvert_exporter": "python",
   "pygments_lexer": "ipython3",
   "version": "3.7.3"
  }
 },
 "nbformat": 4,
 "nbformat_minor": 2
}
