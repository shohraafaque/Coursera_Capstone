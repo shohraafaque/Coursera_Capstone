{
 "cells": [
  {
   "cell_type": "markdown",
   "metadata": {},
   "source": [
    "## Understanding the Data\n",
    "\n",
    "There is no second opinion that understand the problem and business requirement is extremely important. As important it is to understand the problem, choosing the data science approach to give a solution it is important to understand the data. Once we start analysing the data then we may feel the need to gather more data and the quest continues. Being part of this internet era we are surrounded by data, data is flowing all around us. It is every where, gathering data has never been so easy.\n",
    "\n"
   ]
  },
  {
   "cell_type": "markdown",
   "metadata": {},
   "source": [
    "## List of Postal Codes & Neighbourhoods (Wikipedia)\n",
    "We will be using list of Toronto Neighbourhood data scrapped form Wikipedia (https://en.wikipedia.org/wiki/List_of_postal_codes_of_Canada:_M) for analysis. There are total 180 unique postal codes with 208 unique neighbourhoods in Toronto. This will be a great starting point for us. Starting from here we will gather more data online.  \n",
    "\n",
    "Sample record from Wikipedia  \n",
    "<img src=\"wiki_sample.png\" align=\"left\" alt=\"drawing\" width=\"500\"/>"
   ]
  },
  {
   "cell_type": "markdown",
   "metadata": {},
   "source": [
    "## Coordinates of each Postcode\n",
    "* We can use the geopy library in python to get the latitude and longitude information for each neighbourhood. \n",
    "* We can then use the coordinates to get the 100 nearby restaurants within 3000 meters using foursquare location data.\n",
    "* Once the coordinates are obtained by geopy library they can be joined with the neighbourhood table that we obtained from the wikipedia.\n",
    "  \n",
    "Sample record from geopy library  \n",
    "<img src=\"wiki_sample.png\" alt=\"drawing\" width=\"400\"/>   \n",
    "  \n",
    "\n",
    "Sample record of joining coordinates with the neighbourhood table \n",
    "<img src=\"merged_geopy.png\" alt=\"drawing\" width=\"500\"/>"
   ]
  },
  {
   "cell_type": "markdown",
   "metadata": {},
   "source": [
    "## Coordinates and Venues (Foursqare API)\n",
    "* We will then use this Toronto geographical data as input to the foursquare location data and fetch top 100 restaurants nearby to each neighbourhood within 3000 meters.  \n",
    "* Once we have all of these data then we can start making preparing our clustering model. Once the clustering model is trained we can start making decision examining each cluster of neighbourhoods.\n",
    "* Sample response from foursquare API\n",
    "```\n",
    "{  \n",
    "       \"venue\":{  \n",
    "         \"id\":\"4ad8df54f964a520881521e3\",\n",
    "         \"name\":\"Billy Bishop Toronto City Airport (YTZ) (Billy Bishop Toronto City Airport)\",\n",
    "         \"location\":{  \n",
    "            \"address\":\"Toronto Island\",\n",
    "            \"lat\":43.63157941454875,\n",
    "            \"lng\":-79.39560459986005,\n",
    "            \"distance\":0,\n",
    "            \"postalCode\":\"M5J 1B7\",\n",
    "            \"cc\":\"CA\",\n",
    "            \"city\":\"Toronto\",\n",
    "            \"state\":\"ON\",\n",
    "            \"country\":\"Canada\",\n",
    "            \"formattedAddress\":[  \n",
    "               \"Toronto Island\",\n",
    "               \"Toronto ON M5J 1B7\",\n",
    "               \"Canada\"\n",
    "            ]\n",
    "         },\n",
    "         \"categories\":[  \n",
    "            {  \n",
    "               \"id\":\"4bf58dd8d48988d1ed931735\",\n",
    "               \"name\":\"Airport\",\n",
    "               \"pluralName\":\"Airports\",\n",
    "               \"shortName\":\"Airport\",\n",
    "               \"icon\":{  \n",
    "                  \"prefix\":\"https://ss3.4sqi.net/img/categories_v2/travel/airport_\",\n",
    "                  \"suffix\":\".png\"\n",
    "               },\n",
    "               \"primary\":True\n",
    "            }\n",
    "         ],\n",
    "         \"photos\":{  \n",
    "            \"count\":0,\n",
    "            \"groups\":[  \n",
    "\n",
    "            ]\n",
    "         }\n",
    "      },\n",
    "      \"referralId\":\"e-0-4ad8df54f964a520881521e3-0\"\n",
    "   }\n",
    "```\n",
    "* The sample after joining the category of venue it with the postal code looks like this\n",
    "<img src=\"foursquare.png\" alt=\"drawing\" width=\"600\"/>\n"
   ]
  }
 ],
 "metadata": {
  "kernelspec": {
   "display_name": "Python 3",
   "language": "python",
   "name": "python3"
  },
  "language_info": {
   "codemirror_mode": {
    "name": "ipython",
    "version": 3
   },
   "file_extension": ".py",
   "mimetype": "text/x-python",
   "name": "python",
   "nbconvert_exporter": "python",
   "pygments_lexer": "ipython3",
   "version": "3.7.3"
  }
 },
 "nbformat": 4,
 "nbformat_minor": 2
}
