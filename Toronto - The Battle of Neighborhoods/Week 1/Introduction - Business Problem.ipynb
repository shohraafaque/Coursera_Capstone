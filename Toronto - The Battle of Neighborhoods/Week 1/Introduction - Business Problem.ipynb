{
 "cells": [
  {
   "cell_type": "markdown",
   "metadata": {},
   "source": [
    "<h1 style=\"text-align: center;\">Toronto - The Battle of Neighborhoods </h1>  \n",
    "\n",
    "<h2 style=\"text-align: center;\">A data scientist approach to find best neighbourhood to open a restaurant</h2>"
   ]
  },
  {
   "cell_type": "markdown",
   "metadata": {},
   "source": [
    "### Introduction\n",
    "Toronto is the provincial capital of Ontario and the most populous city in Canada, with a population of 2,731,571 in 2016. Current to 2016, the Toronto census metropolitan area (CMA), of which the majority is within the Greater Toronto Area (GTA), held a population of 5,928,040, making it Canada's most populous CMA.   \n",
    "\n",
    "The diverse population of Toronto reflects its current and historical role as an important destination for immigrants to Canada.More than 50 percent of residents belong to a visible minority population group and over 200 distinct ethnic origins are represented among its inhabitants. While the majority of Torontonians speak English as their primary language, over 160 languages are spoken in the city.\n",
    "Being so culturally diverse and acting as a business hub toronto offers many business opportunities for new bees. A careful consideration of analysis for the business expansion is so much important as it directly proportional to the cost of the business. The analysis from this report help for the new businesses strategically target the market and help in high return on investment so is low risk."
   ]
  },
  {
   "cell_type": "markdown",
   "metadata": {},
   "source": [
    "## Description:\n",
    "Opening a new restaurant can be daunting. There are so many things to consider from choosing the right\n",
    "location to finding the financing to selecting the right name. As location being one of the main factors in\n",
    "opening a new restaurant we will focus on the restaurant business around Toronto in this report.\n",
    "First step in opening a new restaurant is deciding what type of restaurant it is going to be? Is it a high end\n",
    "fine dining restaurant or casual style dinner or a specific type of cuisine in mind such as French , Italian or\n",
    "Indian. Choosing a restaurant location in a busy area with plenty of foot traffic, or is there enough parking\n",
    "or are there any other restaurants opened or closed in the same spot?\n",
    "We will focus on different types of restaurants which are opened or closed in a particular place and then\n",
    "decide if it is good place to open a new restaurant based on the popular cuisine around that place."
   ]
  }
 ],
 "metadata": {
  "kernelspec": {
   "display_name": "Python 3",
   "language": "python",
   "name": "python3"
  },
  "language_info": {
   "codemirror_mode": {
    "name": "ipython",
    "version": 3
   },
   "file_extension": ".py",
   "mimetype": "text/x-python",
   "name": "python",
   "nbconvert_exporter": "python",
   "pygments_lexer": "ipython3",
   "version": "3.7.3"
  }
 },
 "nbformat": 4,
 "nbformat_minor": 2
}
