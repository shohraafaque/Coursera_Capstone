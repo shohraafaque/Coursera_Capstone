{
 "cells": [
  {
   "cell_type": "markdown",
   "metadata": {},
   "source": [
    "<h1 style=\"text-align: center;\">Toronto - The Battle of Neighborhoods </h1>  \n",
    "\n",
    "<h2 style=\"text-align: center;\">A data scientist approach to find best neighbourhood to open a restaurant</h2>"
   ]
  },
  {
   "cell_type": "markdown",
   "metadata": {},
   "source": [
    "### Background\n",
    "Toronto is the provincial capital of Ontario and the most populous city in Canada, with a population of 2,731,571 in 2016. Current to 2016, the Toronto census metropolitan area (CMA), of which the majority is within the Greater Toronto Area (GTA), held a population of 5,928,040, making it Canada's most populous CMA.   \n",
    "The diverse population of Toronto reflects its current and historical role as an important destination for immigrants to Canada.More than 50 percent of residents belong to a visible minority population group and over 200 distinct ethnic origins are represented among its inhabitants. While the majority of Torontonians speak English as their primary language, over 160 languages are spoken in the city."
   ]
  },
  {
   "cell_type": "markdown",
   "metadata": {},
   "source": [
    "### What is the problem?\n",
    "1. Being so culturally diverse and acting as a business hub toronto offers many business opportunities for new bees. A careful consideration of analysis for the business expansion is so much important as it directly proportional to the cost of the business. The analysis from this report help for the new businesses strategically target the market and help in high return on investment so is low risk. \n",
    "2. First step in opening a new restaurant is deciding what type of restaurant it is going to be? Is it a high end fine dining restaurant or casual style dinner or a specific type of cuisine in mind such as French , Italian or Indian. Choosing a restaurant location in a busy area with plenty of foot traffic, or is there enough parking or are there any other restaurants opened or closed in the same spot?"
   ]
  },
  {
   "cell_type": "markdown",
   "metadata": {},
   "source": [
    "### Target audience\n",
    "* We want to use data & find patterns in the existing data, to help the investors in making right descision toward their investments.\n",
    "* A data driven argument towards a recomendation.\n",
    "* As location being one of the main factors in opening a new restaurant we will focus on the restaurant business around Toronto in this report.\n",
    "* We will focus on different types of restaurants which are opened or closed in a particular place and then\n",
    "decide if it is good place to open a new restaurant based on the popular cuisine around that place"
   ]
  }
 ],
 "metadata": {
  "kernelspec": {
   "display_name": "Python 3",
   "language": "python",
   "name": "python3"
  },
  "language_info": {
   "codemirror_mode": {
    "name": "ipython",
    "version": 3
   },
   "file_extension": ".py",
   "mimetype": "text/x-python",
   "name": "python",
   "nbconvert_exporter": "python",
   "pygments_lexer": "ipython3",
   "version": "3.7.3"
  }
 },
 "nbformat": 4,
 "nbformat_minor": 2
}
